{
 "cells": [
  {
   "cell_type": "code",
   "execution_count": 1,
   "id": "3ed24c36",
   "metadata": {
    "scrolled": false
   },
   "outputs": [
    {
     "name": "stdout",
     "output_type": "stream",
     "text": [
      "Dash is running on http://127.0.0.1:8050/\n",
      "\n",
      " * Serving Flask app \"__main__\" (lazy loading)\n",
      " * Environment: production\n",
      "\u001b[31m   WARNING: This is a development server. Do not use it in a production deployment.\u001b[0m\n",
      "\u001b[2m   Use a production WSGI server instead.\u001b[0m\n",
      " * Debug mode: off\n",
      "Dash is running on http://127.0.0.1:8051/\n",
      "\n",
      " * Serving Flask app \"__main__\" (lazy loading)\n",
      " * Environment: production\n",
      "\u001b[31m   WARNING: This is a development server. Do not use it in a production deployment.\u001b[0m\n",
      "\u001b[2m   Use a production WSGI server instead.\u001b[0m\n",
      " * Debug mode: off\n",
      "Dash is running on http://127.0.0.1:8052/\n",
      "\n",
      " * Serving Flask app \"__main__\" (lazy loading)\n",
      " * Environment: production\n",
      "\u001b[31m   WARNING: This is a development server. Do not use it in a production deployment.\u001b[0m\n",
      "\u001b[2m   Use a production WSGI server instead.\u001b[0m\n",
      " * Debug mode: off\n"
     ]
    },
    {
     "name": "stderr",
     "output_type": "stream",
     "text": [
      " * Running on http://127.0.0.1:8052/ (Press CTRL+C to quit)\n",
      "127.0.0.1 - - [23/Jun/2024 21:52:23] \"GET / HTTP/1.1\" 200 -\n",
      "127.0.0.1 - - [23/Jun/2024 21:52:23] \"GET /_dash-dependencies HTTP/1.1\" 200 -\n",
      "127.0.0.1 - - [23/Jun/2024 21:52:23] \"GET /_dash-layout HTTP/1.1\" 200 -\n",
      "127.0.0.1 - - [23/Jun/2024 21:52:23] \"GET /_favicon.ico?v=2.8.1 HTTP/1.1\" 200 -\n",
      "127.0.0.1 - - [23/Jun/2024 21:52:23] \"GET /_dash-component-suites/dash/dash_table/async-highlight.js HTTP/1.1\" 200 -\n",
      "127.0.0.1 - - [23/Jun/2024 21:52:23] \"GET /_dash-component-suites/dash/dash_table/async-table.js HTTP/1.1\" 304 -\n",
      "127.0.0.1 - - [23/Jun/2024 21:52:23] \"GET /_dash-component-suites/dash/dcc/async-graph.js HTTP/1.1\" 304 -\n",
      "127.0.0.1 - - [23/Jun/2024 21:52:23] \"GET /_dash-component-suites/dash/dcc/async-plotlyjs.js HTTP/1.1\" 304 -\n"
     ]
    },
    {
     "name": "stdout",
     "output_type": "stream",
     "text": [
      "Columns in filtered data: dict_keys(['', 'age_upon_outcome', 'animal_id', 'animal_type', 'breed', 'color', 'date_of_birth', 'datetime', 'monthyear', 'name', 'outcome_subtype', 'outcome_type', 'sex_upon_outcome', 'location_lat', 'location_long', 'age_upon_outcome_in_weeks'])\n"
     ]
    },
    {
     "name": "stderr",
     "output_type": "stream",
     "text": [
      "127.0.0.1 - - [23/Jun/2024 21:52:23] \"POST /_dash-update-component HTTP/1.1\" 200 -\n",
      "127.0.0.1 - - [23/Jun/2024 21:53:49] \"POST /_dash-update-component HTTP/1.1\" 200 -\n"
     ]
    },
    {
     "name": "stdout",
     "output_type": "stream",
     "text": [
      "Columns in filtered data: dict_keys(['', 'age_upon_outcome', 'animal_id', 'animal_type', 'breed', 'color', 'date_of_birth', 'datetime', 'monthyear', 'name', 'outcome_subtype', 'outcome_type', 'sex_upon_outcome', 'location_lat', 'location_long', 'age_upon_outcome_in_weeks'])\n"
     ]
    },
    {
     "name": "stderr",
     "output_type": "stream",
     "text": [
      "127.0.0.1 - - [23/Jun/2024 21:55:05] \"POST /_dash-update-component HTTP/1.1\" 200 -\n"
     ]
    },
    {
     "name": "stdout",
     "output_type": "stream",
     "text": [
      "Columns in filtered data: dict_keys(['', 'age_upon_outcome', 'animal_id', 'animal_type', 'breed', 'color', 'date_of_birth', 'datetime', 'monthyear', 'name', 'outcome_subtype', 'outcome_type', 'sex_upon_outcome', 'location_lat', 'location_long', 'age_upon_outcome_in_weeks'])\n"
     ]
    }
   ],
   "source": [
    "# Import necessary libraries\n",
    "from dash import dash_table, dcc, html\n",
    "import dash\n",
    "from dash.dependencies import Input, Output\n",
    "from animal_shelter import AnimalShelter\n",
    "import plotly.express as px\n",
    "from threading import Thread\n",
    "import base64\n",
    "\n",
    "# Initialize the Dash app\n",
    "app = dash.Dash(__name__)\n",
    "\n",
    "# MongoDB CRUD operations class\n",
    "shelter = AnimalShelter()\n",
    "\n",
    "# Load initial data from MongoDB\n",
    "data = shelter.read({})\n",
    "if data:\n",
    "    columns = [{\"name\": col, \"id\": col} for col in data[0].keys()]\n",
    "else:\n",
    "    columns = []\n",
    "\n",
    "# Encode the logo image file\n",
    "image_filename = 'grazioso_salvare_logo.png'\n",
    "encoded_image = base64.b64encode(open(image_filename, 'rb').read()).decode('ascii')\n",
    "\n",
    "# Layout of the Dash app\n",
    "app.layout = html.Div([\n",
    "    html.Div([\n",
    "        html.Img(src='data:image/png;base64,{}'.format(encoded_image), style={'height':'10%', 'width':'10%'}),\n",
    "        html.H1(\"Grazioso Salvare Animal Shelter Dashboard\"),\n",
    "    ], style={'display': 'flex', 'align-items': 'center'}),\n",
    "    dcc.RadioItems(\n",
    "        id='rescue-type-filter',\n",
    "        options=[\n",
    "            {'label': 'Water Rescue', 'value': 'Water Rescue'},\n",
    "            {'label': 'Mountain Rescue', 'value': 'Mountain Rescue'},\n",
    "            {'label': 'Disaster Rescue', 'value': 'Disaster Rescue'},\n",
    "            {'label': 'Tracking', 'value': 'Tracking'}\n",
    "        ],\n",
    "        value='Water Rescue'\n",
    "    ),\n",
    "    dash_table.DataTable(\n",
    "        id='datatable',\n",
    "        columns=columns,\n",
    "        data=data,\n",
    "        page_size=10,\n",
    "    ),\n",
    "    dcc.Graph(id='geo-chart'),\n",
    "    dcc.Graph(id='additional-chart')\n",
    "])\n",
    "\n",
    "@app.callback(\n",
    "    [Output('datatable', 'data'),\n",
    "     Output('geo-chart', 'figure'),\n",
    "     Output('additional-chart', 'figure')],\n",
    "    [Input('rescue-type-filter', 'value')]\n",
    ")\n",
    "def update_dashboard(selected_rescue):\n",
    "    # Filter data based on rescue type\n",
    "    if selected_rescue == 'Water Rescue':\n",
    "        filtered_data = shelter.read({\"breed\": {\"$in\": [\"Labrador Retriever Mix\", \"Chesapeake Bay Retriever\", \"Newfoundland\"]}})\n",
    "    elif selected_rescue == 'Mountain Rescue':\n",
    "        filtered_data = shelter.read({\"breed\": {\"$in\": [\"German Shepherd\", \"Alaskan Malamute\", \"Old English Sheepdog\", \"Siberian Husky\", \"Rottweiler\"]}})\n",
    "    elif selected_rescue == 'Disaster Rescue':\n",
    "        filtered_data = shelter.read({\"breed\": {\"$in\": [\"Doberman Pinscher\", \"German Shepherd\", \"Golden Retriever\", \"Bloodhound\", \"Rottweiler\"]}})\n",
    "    elif selected_rescue == 'Tracking':\n",
    "        filtered_data = shelter.read({\"breed\": {\"$in\": [\"Bloodhound\", \"Doberman Pinscher\", \"German Shepherd\"]}})\n",
    "    else:\n",
    "        filtered_data = shelter.read({})\n",
    "    \n",
    "    # Handle case where no data is returned\n",
    "    if not filtered_data:\n",
    "        data_table = []\n",
    "        geo_fig = px.scatter_mapbox([], lat=[], lon=[], hover_name=[])\n",
    "        additional_fig = px.pie([], names=[], title='Breed Distribution')\n",
    "    else:\n",
    "        # Update data table\n",
    "        data_table = filtered_data\n",
    "        \n",
    "        # Print columns for debugging\n",
    "        print(\"Columns in filtered data:\", filtered_data[0].keys())\n",
    "\n",
    "        # Update geolocation chart\n",
    "        geo_fig = px.scatter_mapbox(\n",
    "            filtered_data,\n",
    "            lat=\"location_lat\",\n",
    "            lon=\"location_long\",\n",
    "            hover_name=\"breed\",\n",
    "            zoom=10\n",
    "        )\n",
    "        geo_fig.update_layout(mapbox_style=\"open-street-map\")\n",
    "        \n",
    "        # Update additional chart (example: pie chart of breeds)\n",
    "        additional_fig = px.pie(\n",
    "            filtered_data,\n",
    "            names='breed',\n",
    "            title='Breed Distribution'\n",
    "        )\n",
    "    \n",
    "    return data_table, geo_fig, additional_fig\n",
    "\n",
    "# Function to run the Dash app in a separate thread\n",
    "def run_dash():\n",
    "    for port in range(8050, 8100):\n",
    "        try:\n",
    "            app.run_server(port=port, debug=False, use_reloader=False)\n",
    "            break\n",
    "        except OSError as e:\n",
    "            if \"Address already in use\" in str(e):\n",
    "                continue\n",
    "            else:\n",
    "                raise\n",
    "\n",
    "# Run the Dash app\n",
    "Thread(target=run_dash).start()\n"
   ]
  },
  {
   "cell_type": "code",
   "execution_count": null,
   "id": "4c0fc098",
   "metadata": {},
   "outputs": [],
   "source": []
  }
 ],
 "metadata": {
  "kernelspec": {
   "display_name": "Python 3 (ipykernel)",
   "language": "python",
   "name": "python3"
  },
  "language_info": {
   "codemirror_mode": {
    "name": "ipython",
    "version": 3
   },
   "file_extension": ".py",
   "mimetype": "text/x-python",
   "name": "python",
   "nbconvert_exporter": "python",
   "pygments_lexer": "ipython3",
   "version": "3.9.12"
  }
 },
 "nbformat": 4,
 "nbformat_minor": 5
}
